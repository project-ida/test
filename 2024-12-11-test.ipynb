{
 "cells": [
  {
   "cell_type": "markdown",
   "id": "3f826b5b-1cf7-45b2-9622-89c10dbf1eb2",
   "metadata": {
    "id": "3f826b5b-1cf7-45b2-9622-89c10dbf1eb2"
   },
   "source": [
    "<a href=\"https://colab.research.google.com/github/2024-12-11-test.ipynb\" target=\"_parent\"><img src=\"https://colab.research.google.com/assets/colab-badge.svg\" alt=\"Open In Colab\"/></a> &nbsp;&nbsp;&nbsp;&nbsp;&nbsp;&nbsp;&nbsp;&nbsp;&nbsp;&nbsp;<a href=\"https://nbviewer.jupyter.org/github/2024-12-11-test.ipynb\" target=\"_parent\"><img src=\"https://nbviewer.jupyter.org/static/img/nav_logo.svg\" alt=\"Open In nbviewer\" width=\"100\"/></a>"
   ]
  },
  {
   "cell_type": "markdown",
   "id": "a0c58e6c-2dcf-4992-8d16-db9ec301f4b4",
   "metadata": {
    "id": "a0c58e6c-2dcf-4992-8d16-db9ec301f4b4"
   },
   "source": [
    "## Test notebook"
   ]
  },
  {
   "cell_type": "code",
   "execution_count": null,
   "id": "9b2ae39f-1975-4c39-afb9-53b12f6e2088",
   "metadata": {
    "id": "9b2ae39f-1975-4c39-afb9-53b12f6e2088"
   },
   "outputs": [],
   "source": []
  }
 ],
 "metadata": {
  "colab": {
   "provenance": []
  },
  "kernelspec": {
   "display_name": "Python 3 (ipykernel)",
   "language": "python",
   "name": "python3"
  },
  "language_info": {
   "codemirror_mode": {
    "name": "ipython",
    "version": 3
   },
   "file_extension": ".py",
   "mimetype": "text/x-python",
   "name": "python",
   "nbconvert_exporter": "python",
   "pygments_lexer": "ipython3",
   "version": "3.11.4"
  }
 },
 "nbformat": 4,
 "nbformat_minor": 5
}
