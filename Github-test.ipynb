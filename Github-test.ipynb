{
 "cells": [
  {
   "cell_type": "markdown",
   "id": "59717e40-9293-4e5e-9fd9-235392e75585",
   "metadata": {},
   "source": [
    "<a href=\"https://colab.research.google.com/github/project-ida/test/blob/main/Github-test.ipynb\" target=\"_parent\"><img src=\"https://colab.research.google.com/assets/colab-badge.svg\" alt=\"Open In Colab\"/></a> &nbsp;&nbsp;&nbsp;&nbsp;&nbsp;&nbsp;&nbsp;&nbsp;&nbsp;&nbsp;<a href=\"https://nbviewer.org/github/project-ida/test/blob/main/Github-test.ipynb\" target=\"_parent\"><img src=\"https://nbviewer.org/static/img/nav_logo.svg\" alt=\"Open In nbviewer\" width=\"100\"/></a>"
   ]
  },
  {
   "cell_type": "code",
   "execution_count": 1,
   "metadata": {
    "colab": {
     "base_uri": "https://localhost:8080/"
    },
    "id": "qnwnvcJZZMZb",
    "outputId": "9c57ddf4-d596-4153-d41a-b35198cf296d"
   },
   "outputs": [
    {
     "name": "stdout",
     "output_type": "stream",
     "text": [
      "Hello\n"
     ]
    }
   ],
   "source": [
    "print(\"Hello\")"
   ]
  },
  {
   "cell_type": "code",
   "execution_count": null,
   "metadata": {
    "id": "vMXAl0OuZWAz"
   },
   "outputs": [],
   "source": []
  }
 ],
 "metadata": {
  "colab": {
   "authorship_tag": "ABX9TyNCcQHYUQU2s9oED5FCGD7w",
   "provenance": []
  },
  "kernelspec": {
   "display_name": "Python 3",
   "name": "python3"
  },
  "language_info": {
   "name": "python"
  }
 },
 "nbformat": 4,
 "nbformat_minor": 0
}
