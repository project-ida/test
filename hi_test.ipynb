{
  "cells": [
    {
      "cell_type": "markdown",
      "metadata": {
        "id": "9b6ce438-08c4-46f5-a2a9-6a3c9a9b6093"
      },
      "source": [
        "<a href=\"https://colab.research.google.com/github/project-ida/test/blob/main/hi_test.ipynb\" target=\"_parent\"><img src=\"https://colab.research.google.com/assets/colab-badge.svg\" alt=\"Open In Colab\"/></a> &nbsp;&nbsp;&nbsp;&nbsp;&nbsp;&nbsp;&nbsp;&nbsp;&nbsp;&nbsp;<a href=\"https://nbviewer.org/github/project-ida/test/blob/main/hi_test.ipynb\" target=\"_parent\"><img src=\"https://nbviewer.jupyter.org/static/img/nav_logo.svg\" alt=\"Open In nbviewer\" width=\"100\"/></a>"
      ]
    },
    {
      "cell_type": "markdown",
      "source": [
        "This is a test"
      ],
      "metadata": {
        "id": "ots10gJnJoXh"
      }
    },
    {
      "cell_type": "code",
      "execution_count": 1,
      "metadata": {
        "colab": {
          "base_uri": "https://localhost:8080/"
        },
        "id": "Hzg4XXIrJSOA",
        "outputId": "2882ac70-2780-435d-8dfd-ff970bb2ddfd"
      },
      "outputs": [
        {
          "output_type": "stream",
          "name": "stdout",
          "text": [
            "hi\n"
          ]
        }
      ],
      "source": [
        "print(\"hi\")"
      ]
    },
    {
      "cell_type": "code",
      "execution_count": null,
      "metadata": {
        "id": "RDQsDQSYJU0C"
      },
      "outputs": [],
      "source": []
    }
  ],
  "metadata": {
    "colab": {
      "provenance": []
    },
    "kernelspec": {
      "display_name": "Python 3",
      "name": "python3"
    },
    "language_info": {
      "name": "python"
    }
  },
  "nbformat": 4,
  "nbformat_minor": 0
}